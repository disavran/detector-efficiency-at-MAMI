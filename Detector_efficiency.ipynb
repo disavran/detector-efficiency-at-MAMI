{
 "cells": [
  {
   "cell_type": "markdown",
   "metadata": {
    "deletable": false
   },
   "source": [
    "<div id='toc'></div>"
   ]
  },
  {
   "cell_type": "markdown",
   "metadata": {},
   "source": [
    "# Detector efficiency"
   ]
  },
  {
   "cell_type": "code",
   "execution_count": 1,
   "metadata": {},
   "outputs": [],
   "source": [
    "TFile file(\"NewEvents.root\");"
   ]
  },
  {
   "cell_type": "code",
   "execution_count": null,
   "metadata": {},
   "outputs": [],
   "source": [
    "//genral definition to use Tree\n",
    "#define PI 3.14159265\n",
    "TTree* tree =(TTree*) file.Get(\"events\");\n",
    "Int_t nTracks, detectors[100];\n",
    "Double_t theta[100],clusterEnergy[100],vetoEnergy[100],phi[100];\n",
    "Float_t elab[2],ebeam,dircos[2][3],theta_t[2],plab[2];\n",
    "\n",
    "TLorentzVector Lab_Target;\n",
    "TLorentzVector Lab_Beam;\n",
    "TLorentzVector Lab_Initial_State;\n",
    "TLorentzVector Lab_Proton;\n",
    "TLorentzVector CM_Proton;\n",
    "\n",
    "\n",
    "TH1F *h_theta_cm_true =new TH1F(\"proton theta cm\",\"proton theta cm\", 18,0,180);\n",
    "TH1F *h_true =new TH1F(\"true neutron energy\",\"true neutron energy\", 100,0,1500);\n",
    "TH1F *h_true_ebeam =new TH1F(\"true_beamenergy[GeV]\",\"true_beamenergy[GeV]\", 100,0,1500);\n",
    "TH1F *h_true_thetap =new TH1F(\"true_theta proton\",\"true_theta proton\", 18,0,180);\n",
    "TH1F *h_true_thetan =new TH1F(\"true_theta neutron\",\"true_theta neutron\", 36,0,180);\n",
    "TH1F *h_true_p =new TH1F(\"true proton energy\",\"true proton energy\", 100,0,1500);\n",
    "TH2F *h_true_thetap_Eg = new TH2F(\"theta proton vs Ebeam\",\"theta proton vs Ebeam\", 18,0,180, 100,200,1500);\n",
    "TH2F *h_theta_cm_2 = new TH2F(\" proton theta cm  vs true theta\",\"proton tehta cm vs true theta\",18,0,180,18,0,180);\n",
    "TH2F *h_true_thetap_Eg2 = new TH2F(\"true theta proton cm vs Ebeam\",\" true theta proton cm vs Ebeam\", 18,0,180, 100,200,1500);\n",
    "\n",
    "\n",
    "tree->SetBranchAddress(\"nTracks\",&nTracks);\n",
    "tree->SetBranchAddress(\"detectors\",detectors);\n",
    "tree->SetBranchAddress(\"theta\",theta);\n",
    "tree->SetBranchAddress(\"phi\",phi);\n",
    "tree->SetBranchAddress(\"clusterEnergy\",clusterEnergy);\n",
    "tree->SetBranchAddress(\"vetoEnergy\",vetoEnergy);\n",
    "tree->SetBranchAddress(\"elab\",elab);\n",
    "tree->SetBranchAddress(\"plab\",plab);\n",
    "tree->SetBranchAddress(\"theta_t\",theta_t);\n",
    "tree->SetBranchAddress(\"ebeam\",&ebeam);\n",
    "tree->SetBranchAddress(\"dircos\",dircos);\n",
    "\n",
    "\n",
    "for(int i =0,N= tree->GetEntries(); i< N; ++i){\n",
    "    tree->GetEntry(i);\n",
    "    // defining the true refrence values\n",
    "    h_true_thetap->Fill(theta_t[0]);\n",
    "    h_true_thetan->Fill(theta_t[1]);\n",
    "    h_true->Fill(elab[1]*1000-939);\n",
    "    h_true_ebeam->Fill(ebeam*1000);\n",
    "    h_true_p->Fill(elab[0]*1000-938);\n",
    "    h_true_thetap_Eg->Fill(theta_t[0],ebeam*1000);\n",
    "    \n",
    "    // boost in cm\n",
    "    Float_t Md = 1875.62;\n",
    "    Lab_Beam.SetPxPyPzE(0.0, 0.0, ebeam*1000, ebeam*1000);\n",
    "    Lab_Target.SetPxPyPzE(0.0, 0.0, 0.0, Md);\n",
    " \n",
    "    Lab_Proton.SetPxPyPzE(dircos[0][0]*plab[0]*1000,dircos[0][1]*plab[0]*1000,dircos[0][2]*plab[0]*1000,elab[0]*1000);\n",
    "                                             \n",
    "    //calculate veloctiy\n",
    "    Lab_Initial_State =  Lab_Target + Lab_Beam;\n",
    "    Float_t beta;\n",
    "    beta = Lab_Initial_State.Beta();\n",
    "\n",
    "\n",
    "    // boost proton with beta\n",
    "    CM_Proton =  Lab_Proton;\n",
    "    CM_Proton.Boost(0, 0, -beta);\n",
    "\n",
    "    // new theta angle in centrre of mass frame\n",
    "    Float_t theta_p_cm;\n",
    "    theta_p_cm = CM_Proton.Theta()*180./PI;  \n",
    "    \n",
    "    h_theta_cm_true->Fill(theta_p_cm); \n",
    "    h_theta_cm_2->Fill(theta_p_cm,theta_t[0]);\n",
    "    h_true_thetap_Eg2->Fill(theta_p_cm,ebeam*1000);\n",
    "     \n",
    "}"
   ]
  },
  {
   "cell_type": "code",
   "execution_count": null,
   "metadata": {
    "scrolled": false
   },
   "outputs": [],
   "source": [
    "// definition of proton energy, neutron energy and neutron polar angle as a function of\n",
    "// proton polar angly and beam enrgy\n",
    "#define PI 3.14159265\n",
    "\n",
    "Double_t E_n(Double_t Eg,  Double_t zp,Double_t Md=1.875, Double_t Mp=0.938, Double_t Mn=0.939){\n",
    "     Double_t E=(1.0/2.0)*(-2*std::pow(Eg, 3)*std::pow(zp, 2) + 2*std::pow(Eg, 3) - 2*std::pow(Eg, 2)*Md*std::pow(zp, 2) + 4*std::pow(Eg, 2)*Md + 3*Eg*std::pow(Md, 2) + Eg*std::pow(Mn, 2) - Eg*std::pow(Mp, 2) - Eg*zp*std::sqrt(4*std::pow(Eg, 2)*std::pow(Md, 2) + 4*std::pow(Eg, 2)*std::pow(Mp, 2)*std::pow(zp, 2) - 4*std::pow(Eg, 2)*std::pow(Mp, 2) + 4*Eg*std::pow(Md, 3) - 4*Eg*Md*std::pow(Mn, 2) - 4*Eg*Md*std::pow(Mp, 2) + std::pow(Md, 4) - 2*std::pow(Md, 2)*std::pow(Mn, 2) - 2*std::pow(Md, 2)*std::pow(Mp, 2) + std::pow(Mn, 4) - 2*std::pow(Mn, 2)*std::pow(Mp, 2) + std::pow(Mp, 4)) + std::pow(Md, 3) + Md*std::pow(Mn, 2) - Md*std::pow(Mp, 2))/(-std::pow(Eg, 2)*std::pow(zp, 2) + std::pow(Eg, 2) + 2*Eg*Md + std::pow(Md, 2));\n",
    "    return E;\n",
    "\n",
    "} "
   ]
  },
  {
   "cell_type": "code",
   "execution_count": null,
   "metadata": {},
   "outputs": [],
   "source": [
    "Double_t E_p(Double_t Eg,  Double_t zp,Double_t Md=1.875, Double_t Mp=0.938, Double_t Mn=0.939){\n",
    "    Double_t Ep=(2*std::pow(Eg, 2)*Md + 3*Eg*std::pow(Md, 2) - Eg*std::pow(Mn, 2) + Eg*std::pow(Mp, 2) + Eg*zp*std::sqrt(4*std::pow(Eg, 2)*std::pow(Md, 2) + 4*std::pow(Eg, 2)*std::pow(Mp, 2)*std::pow(zp, 2) - 4*std::pow(Eg, 2)*std::pow(Mp, 2) + 4*Eg*std::pow(Md, 3) - 4*Eg*Md*std::pow(Mn, 2) - 4*Eg*Md*std::pow(Mp, 2) + std::pow(Md, 4) - 2*std::pow(Md, 2)*std::pow(Mn, 2) - 2*std::pow(Md, 2)*std::pow(Mp, 2) + std::pow(Mn, 4) - 2*std::pow(Mn, 2)*std::pow(Mp, 2) + std::pow(Mp, 4)) + std::pow(Md, 3) - Md*std::pow(Mn, 2) + Md*std::pow(Mp, 2))/(-2*std::pow(Eg, 2)*std::pow(zp, 2) + 2*std::pow(Eg, 2) + 4*Eg*Md + 2*std::pow(Md, 2));\n",
    "    return Ep;\n",
    "    }"
   ]
  },
  {
   "cell_type": "code",
   "execution_count": null,
   "metadata": {},
   "outputs": [],
   "source": [
    "Double_t z_n(Double_t Eg,  Double_t zp,Double_t Md=1.875, Double_t Mp=0.938, Double_t Mn=0.939){\n",
    "    Double_t zn=(Eg - zp*std::sqrt(-std::pow(Mp, 2) + std::pow(Eg + Md - 1.0/2.0*(2*std::pow(Eg, 3)*std::pow(zp, 2) - 2*std::pow(Eg, 3) + 2*std::pow(Eg, 2)*Md*std::pow(zp, 2) - 4*std::pow(Eg, 2)*Md - 3*Eg*std::pow(Md, 2) - Eg*std::pow(Mn, 2) + Eg*std::pow(Mp, 2) + Eg*zp*std::sqrt(4*std::pow(Eg, 2)*std::pow(Md, 2) + 4*std::pow(Eg, 2)*std::pow(Mp, 2)*std::pow(zp, 2) - 4*std::pow(Eg, 2)*std::pow(Mp, 2) + 4*Eg*std::pow(Md, 3) - 4*Eg*Md*std::pow(Mn, 2) - 4*Eg*Md*std::pow(Mp, 2) + std::pow(Md, 4) - 2*std::pow(Md, 2)*std::pow(Mn, 2) - 2*std::pow(Md, 2)*std::pow(Mp, 2) + std::pow(Mn, 4) - 2*std::pow(Mn, 2)*std::pow(Mp, 2) + std::pow(Mp, 4)) - std::pow(Md, 3) - Md*std::pow(Mn, 2) + Md*std::pow(Mp, 2))/(std::pow(Eg, 2)*std::pow(zp, 2) - std::pow(Eg, 2) - 2*Eg*Md - std::pow(Md, 2)), 2)))/std::sqrt(-std::pow(Mn, 2) + (1.0/4.0)*std::pow(2*std::pow(Eg, 3)*std::pow(zp, 2) - 2*std::pow(Eg, 3) + 2*std::pow(Eg, 2)*Md*std::pow(zp, 2) - 4*std::pow(Eg, 2)*Md - 3*Eg*std::pow(Md, 2) - Eg*std::pow(Mn, 2) + Eg*std::pow(Mp, 2) + Eg*zp*std::sqrt(4*std::pow(Eg, 2)*std::pow(Md, 2) + 4*std::pow(Eg, 2)*std::pow(Mp, 2)*std::pow(zp, 2) - 4*std::pow(Eg, 2)*std::pow(Mp, 2) + 4*Eg*std::pow(Md, 3) - 4*Eg*Md*std::pow(Mn, 2) - 4*Eg*Md*std::pow(Mp, 2) + std::pow(Md, 4) - 2*std::pow(Md, 2)*std::pow(Mn, 2) - 2*std::pow(Md, 2)*std::pow(Mp, 2) + std::pow(Mn, 4) - 2*std::pow(Mn, 2)*std::pow(Mp, 2) + std::pow(Mp, 4)) - std::pow(Md, 3) - Md*std::pow(Mn, 2) + Md*std::pow(Mp, 2), 2)/std::pow(std::pow(Eg, 2)*std::pow(zp, 2) - std::pow(Eg, 2) - 2*Eg*Md - std::pow(Md, 2), 2));\n",
    "    return zn;\n",
    "}"
   ]
  },
  {
   "cell_type": "code",
   "execution_count": null,
   "metadata": {},
   "outputs": [],
   "source": [
    "\n",
    "TH2F *h_En_Eg = new TH2F(\"Ebeam_Eneutron\",\"Ebeam_Eneutron\", 100,0,2000, 100,0,1500);\n",
    "TH2F *h_Ep_Eg = new TH2F(\"Ebeam_Eproton\",\"Ebeam_Eproton\", 100,0,2000, 100,0,1500);\n",
    "TH2F *h_thetap_Eg = new TH2F(\"theta proton vs Ebeam\",\"theta proton vs Ebeam\", 18,0,180, 100,200,1500);\n",
    "TH1F *h_p =new TH1F(\"proton\",\"proton\", 100,0,1500);\n",
    "TH1F *h_n =new TH1F(\"neutron\",\"neutron\", 100,0,1500);\n",
    "TH1F *h_ebeam =new TH1F(\"beam energy\",\"bem energy\", 100,0,1500);\n",
    "TH1F *h_thetap =new TH1F(\" recostructed proton theta\",\" reconstructed proton theta\", 18,0,180);\n",
    "TH1F *h_thetan =new TH1F(\" reconstructed neutron theta\",\" reconstructed neutron theta\", 36,0,180);\n",
    "TH2F *h_theta_thetap = new TH2F(\"diffrence of reconstructed and true proton polar angle as a function of reconstructed angle\",\"diffrence of reconstructed and true proton polar angle as a function of reconstructed angle\",36,0,180,100,-20,20);\n",
    "TH1F *h_diff_p =new TH1F(\"diffrence of reconstructed and true proton energy\",\"diffrence of reconstructed and true proton energy\", 100,-80,80);\n",
    "TH1F *h_diff_p_calc =new TH1F(\"diffrence of calculated and true proton energy\",\"diffrence of calculated and true proton energy\", 100,-30,30);\n",
    "TH1F *h_diff_n =new TH1F(\"diffrence of reconstructed and true neutron energy\",\"diffrence of reconstructed and true neutron energy\", 100,-30,30);\n",
    "TH2F *h_true_measured_thetap = new TH2F(\"true theta va reconstructed\",\"true theta va reconstructed\",36,0,180,36,0,180);\n",
    "TH1F *h_theta_cm =new TH1F(\"proton theta cm\",\"proton theta cm\", 18,0,180);\n",
    "TH2F *h_theta_cm_1 = new TH2F(\"cm_theta\",\"cm_ theta\",18,0,180,18,0,180);\n",
    "TH1F *h2 =new TH1F(\"diffrence true and reconstrcuted proton polar angle\",\"diffrence true and reconstrcuted proton polar angle\", 100,-20,20);\n",
    "TH2F *h_thetap_Eg2 = new TH2F(\"theta proton vs Ebeam\",\"theta proton vs Ebeam\", 18,0,180, 100,200,1500);\n",
    "\n",
    "TLorentzVector Lab_Target;\n",
    "TLorentzVector Lab_Beam;\n",
    "TLorentzVector Lab_Initial_State;\n",
    "TLorentzVector Lab_Proton;\n",
    "TLorentzVector CM_Proton;\n",
    "\n",
    "\n",
    "for(int i =0,N= tree->GetEntries(); i< N; ++i){\n",
    "    tree->GetEntry(i);\n",
    "        if(nTracks==2){\n",
    "        int prot = 0;\n",
    "        int neut = 1;\n",
    "            if(vetoEnergy[0]>vetoEnergy[1]){\n",
    "                prot = 0;\n",
    "                neut = 1;\n",
    "            }\n",
    "            else if(vetoEnergy[0]<vetoEnergy[1]){\n",
    "                prot = 1;\n",
    "                neut = 0;\n",
    "            }\n",
    "            else if(vetoEnergy[0]==0 && vetoEnergy[1]==0){\n",
    "                continue; //this to cut the events when both tracks have VetoEnergy ==0\n",
    "            }\n",
    " if (  detectors[prot]==7 or detectors[prot]==3 or detectors[prot]==5 or detectors[prot]==6 or detectors[prot]==40 ){ //       \n",
    "     if (vetoEnergy[prot]>0.7){ // muss ich detector 5 noch überprüfen, da ich mit der vetoenergy diesen fall ausschließe\n",
    "                    double zp=cos(theta[prot]* PI / 180.0 );\n",
    "                   h2->Fill(theta[prot]-theta_t[prot]);\n",
    "                \n",
    "                   \n",
    "                    \n",
    "                                  if(detectors[neut]==1){\n",
    "                                     \n",
    "                                     if(abs(phi[neut])+abs(phi[prot])<=(180+1.5*5.99)){\n",
    "                                       if( abs(phi[neut])+abs(phi[prot])>=(180-1.5*5.99)){\n",
    "                                         \n",
    "                                             auto diff_theta=acos(z_n(ebeam,zp))*(180.0 / PI)-theta[neut];\n",
    "                                             if (diff_theta<=2*4.95){\n",
    "                                                 if(diff_theta>=-2*4.95){\n",
    "                                                     //boost in cm\n",
    "                                                     Float_t Md = 1875.62;\n",
    "                                                    Lab_Beam.SetPxPyPzE(0.0, 0.0, ebeam*1000, ebeam*1000);\n",
    "                                                    Lab_Target.SetPxPyPzE(0.0, 0.0, 0.0, Md);\n",
    "                                                    double_t relP_p = std::sqrt(std::pow(E_p(ebeam,zp)*1000,2) - std::pow(938,2));\n",
    "                                                    double_t px = relP_p*cos(phi[prot])*std::sqrt(1-zp*zp);\n",
    "                                                    double_t py = relP_p*sin(phi[prot])*std::sqrt(1-zp*zp);\n",
    "                                                    double_t pz = relP_p*zp;\n",
    "                                                    Lab_Proton.SetPxPyPzE(px, py, pz, E_p(ebeam,zp)*1000);\n",
    "                                                     //Geschwindigkeit ausrechnen:\n",
    "                                                    Lab_Initial_State =  Lab_Target + Lab_Beam;\n",
    "                                                    Float_t beta;\n",
    "                                                    beta = Lab_Initial_State.Beta();\n",
    "\n",
    "\n",
    "                                                    // und jetzt das Proton mit -beta boosten\n",
    "                                                    CM_Proton =  Lab_Proton;\n",
    "                                                    CM_Proton.Boost(0, 0, -beta);\n",
    "\n",
    "                                                    // der CM Winkel des Protons sollte dann sein:\n",
    "                                                    Float_t theta_p_cm;\n",
    "                                                    theta_p_cm = CM_Proton.Theta()*180./PI;  \n",
    "                                             h_theta_cm->Fill(theta_p_cm);       \n",
    "                                             h_p->Fill(E_p(ebeam,zp)*1000-938); \n",
    "                                             h_n->Fill(E_n(ebeam,zp)*1000-939);\n",
    "                                             h_En_Eg->Fill(elab[1]*1000-939,E_n(ebeam,zp)*1000-939);\n",
    "                                             h_thetap->Fill(theta[prot] );\n",
    "                                             h_thetan->Fill(acos(z_n(ebeam,zp))*180.0 / PI );\n",
    "                                             h_ebeam->Fill(ebeam*1000);\n",
    "                                             h_thetap_Eg->Fill(theta[prot],ebeam*1000);\n",
    "                                             dircos[0][2] =acos(dircos[0][2])*(180/3.14159265);\n",
    "                                             h_theta_thetap->Fill(theta[prot],dircos[0][2]-theta[prot]);\n",
    "                                             h_Ep_Eg->Fill(elab[0]*1000-938,E_p(ebeam,zp)*1000-938);\n",
    "                                             h_diff_p->Fill(elab[0]*1000-938-clusterEnergy[prot]);\n",
    "                                             h_diff_p_calc->Fill(elab[0]*1000-E_p(ebeam,zp)*1000);\n",
    "                                             h_diff_n->Fill(elab[1]*1000-E_n(ebeam,zp)*1000);\n",
    "                                             h_true_measured_thetap->Fill(theta_t[0],theta[prot]);\n",
    "                                             h_theta_cm_1->Fill(theta_p_cm,theta_t[0]);\n",
    "                                             h_thetap_Eg2->Fill(theta_p_cm,ebeam*1000);\n",
    "                                                 }\n",
    "                                             }\n",
    "                                        }  \n",
    "                                 \n",
    "                                    }                                 \n",
    "                                }\n",
    "                     \n",
    "                            \n",
    "                        }\n",
    "     \n",
    "            \n",
    "\n",
    "    \n",
    "    \n",
    "                }\n",
    "            }\n",
    "        }\n",
    "\n",
    "    "
   ]
  },
  {
   "cell_type": "markdown",
   "metadata": {},
   "source": [
    "## polar angle correlation"
   ]
  },
  {
   "cell_type": "code",
   "execution_count": null,
   "metadata": {},
   "outputs": [],
   "source": [
    "// deviation of the reconstructed proton angle from the true angle\n",
    "\n",
    "TCanvas c2;\n",
    "//gStyle->SetOptStat(0);\n",
    "h2->SetTitle(\"difference proton theta angle \");\n",
    "h2->GetYaxis()->SetTitle(\"\"); \n",
    "h2->GetXaxis()->SetTitle(\" difference #theta_{p} [#circ]\");\n",
    "h2->Fit(\"gaus\");\n",
    "h2->Draw();\n",
    "c2.SetGrid();\n",
    "c2.Draw();\n",
    "\n"
   ]
  },
  {
   "cell_type": "code",
   "execution_count": null,
   "metadata": {},
   "outputs": [],
   "source": [
    "   int bin1 = h2->FindFirstBinAbove( h2->GetMaximum()/2);\n",
    "   int bin2 = h2->FindLastBinAbove( h2->GetMaximum()/2);\n",
    "   double fwhm = h2->GetBinCenter(bin2) - h2->GetBinCenter(bin1);\n",
    "cout<<\"the fwhm is \"<<fwhm<<endl<<fwhm/2.3548;"
   ]
  },
  {
   "cell_type": "code",
   "execution_count": null,
   "metadata": {},
   "outputs": [],
   "source": [
    "TCanvas c2;\n",
    "h_true_measured_thetap->SetYTitle(\" theta_{P}, [#circ]\");\n",
    "h_true_measured_thetap->SetXTitle(\" theta_{true P}, [#circ]\");\n",
    "h_true_measured_thetap->SetTitle(\"\");\n",
    "h_true_measured_thetap->Draw(\"colz\");\n",
    "//gStyle->SetOptStat(0); \n",
    "\n",
    "c2.Draw();\n"
   ]
  },
  {
   "cell_type": "code",
   "execution_count": null,
   "metadata": {},
   "outputs": [],
   "source": [
    "TCanvas c2;\n",
    "h_theta_thetap->GetXaxis()->SetTitle(\"measured theta [#circ]\");\n",
    "h_theta_thetap->GetYaxis()->SetTitle(\"diffence measured and true theta [#circ]\"); \n",
    "h_theta_thetap->SetTitle(\"diffrence-theta vs measured theta\");\n",
    "h_theta_thetap->Draw(\"colz\");\n",
    "c2.SetGrid();\n",
    " c2.Draw();\n"
   ]
  },
  {
   "cell_type": "markdown",
   "metadata": {},
   "source": [
    "## energy correlation"
   ]
  },
  {
   "cell_type": "markdown",
   "metadata": {},
   "source": [
    "### true energy vs measured for proton"
   ]
  },
  {
   "cell_type": "code",
   "execution_count": null,
   "metadata": {},
   "outputs": [],
   "source": [
    "TCanvas c2;\n",
    "\n",
    "h_diff_p->SetTitle(\"\");\n",
    "h_diff_p->GetYaxis()->SetTitle(\"\"); \n",
    "h_diff_p->GetXaxis()->SetTitle(\" difference [MeV]\"); \n",
    "//h_diff_p->GetYaxis()->SetRangeUser(0,70000);\n",
    "//h_diff_p->GetXaxis()->SetRangeUser(-60,60);\n",
    "h_diff_p->Fit(\"gaus\");\n",
    "h_diff_p->Draw();\n",
    "\n",
    "c2.SetGrid();\n",
    " c2.Draw();\n"
   ]
  },
  {
   "cell_type": "markdown",
   "metadata": {},
   "source": [
    "### true proton energy vs calculated proton"
   ]
  },
  {
   "cell_type": "code",
   "execution_count": null,
   "metadata": {},
   "outputs": [],
   "source": [
    "TF1 *fp=new TF1(\"fp\",\"gaus\",-20,20);\n",
    "TCanvas c2;\n",
    "\n",
    "h_diff_p_calc->SetTitle(\"\");\n",
    "h_diff_p_calc->GetYaxis()->SetTitle(\"\"); \n",
    "h_diff_p_calc->GetXaxis()->SetTitle(\" difference [MeV]\"); \n",
    "//h_diff_p->GetYaxis()->SetRangeUser(0,70000);\n",
    "//h_diff_p->GetXaxis()->SetRangeUser(-60,60);\n",
    "h_diff_p_calc->Fit(\"fp\",\"R\");\n",
    "h_diff_p_calc->Draw();\n",
    "\n",
    "c2.SetGrid();\n",
    " c2.Draw();\n"
   ]
  },
  {
   "cell_type": "markdown",
   "metadata": {},
   "source": [
    "### true neutron energy vs calculated neutron energy"
   ]
  },
  {
   "cell_type": "code",
   "execution_count": null,
   "metadata": {},
   "outputs": [],
   "source": [
    "TF1 *fp=new TF1(\"fp\",\"gaus\",-20,20);\n",
    "TCanvas c2;\n",
    "\n",
    "h_diff_n->SetTitle(\"\");\n",
    "h_diff_n->GetYaxis()->SetTitle(\"\"); \n",
    "h_diff_n->GetXaxis()->SetTitle(\" difference [MeV]\"); \n",
    "//h_diff_n->GetYaxis()->SetRangeUser(0,70000);\n",
    "//h_diff_n->GetXaxis()->SetRangeUser(-60,60);\n",
    "h_diff_n->Fit(\"fp\",\"R\");\n",
    "h_diff_n->Draw();\n",
    "\n",
    "c2.SetGrid();\n",
    " c2.Draw();\n",
    "\n",
    "c2.SaveAs(\"neutE_trueE.jpg\")"
   ]
  },
  {
   "cell_type": "markdown",
   "metadata": {},
   "source": [
    "## total detetcor efficiency "
   ]
  },
  {
   "cell_type": "markdown",
   "metadata": {},
   "source": [
    "### efficiency as a function of neutron energy"
   ]
  },
  {
   "cell_type": "code",
   "execution_count": null,
   "metadata": {},
   "outputs": [],
   "source": [
    "\n",
    "\n",
    "h_n->SetTitle(\"neutron energy \");\n",
    "h_n->SetTitle(\"\");\n",
    "h_n->SetLineColor(kGreen);\n",
    "\n",
    "h_n->GetXaxis()->SetTitle(\" neutron kinetic energy [MeV]\"); \n",
    "//h_n->GetYaxis()->SetTitle(\" \"); \n",
    "TCanvas* c= new TCanvas();\n",
    "h_n->GetYaxis()->SetRangeUser(0,60000);\n",
    "h_n->Draw();\n",
    "h_true->Draw(\"Same\");\n",
    "//gStyle->SetOptStat(0);\n",
    "c->Draw();\n",
    "   auto legend = new TLegend(0.5,0.7,0.88,0.9);\n",
    "   legend->SetHeader(\"\",\"C\"); // option \"C\" allows to center the header\n",
    "   legend->AddEntry(h_n,\" reconstructed events\",\"l\");\n",
    "   legend->AddEntry(h_true,\"true events\",\"l\");\n",
    "\n",
    "   legend->Draw();\n"
   ]
  },
  {
   "cell_type": "markdown",
   "metadata": {},
   "source": [
    "The histogramms show the amount of events detected for given neutron energies. The number of events drops for higher neutron energyies. Espacially measured events are nearly zero for neutron energies higher as 1GeV, as the energy of the corresponding proton is not high enough to be detected(?).\n",
    "\n"
   ]
  },
  {
   "cell_type": "code",
   "execution_count": null,
   "metadata": {},
   "outputs": [],
   "source": [
    "h_n->Sumw2();\n",
    "auto div_E_tot = new TH1F(*h_n);\n",
    " div_E_tot->Divide(h_true);\n",
    "TCanvas c3;\n",
    "div_E_tot->GetXaxis()->SetTitle(\" neutron kinetic energy [MeV]\"); \n",
    "div_E_tot->GetYaxis()->SetTitle(\" Detection efficiency\"); \n",
    "div_E_tot->SetLineColor(kRed);\n",
    "div_E_tot->GetYaxis()->SetRangeUser(0,0.3);\n",
    "div_E_tot->SetTitle(\"total detector acceptance vs. neutron energy\");\n",
    "div_E_tot->SetTitle(\"\");\n",
    "div_E_tot->Draw();\n",
    "//gStyle->SetOptStat(0);\n",
    "c3.SetGrid();\n",
    " c3.Draw();\n"
   ]
  },
  {
   "cell_type": "markdown",
   "metadata": {},
   "source": [
    "### efficiency as a function of proton energy"
   ]
  },
  {
   "cell_type": "code",
   "execution_count": null,
   "metadata": {},
   "outputs": [],
   "source": [
    "\n",
    "h_p->SetLineColor(kGreen);\n",
    "h_p->GetXaxis()->SetTitle(\" proton kinetic energy [MeV]\"); \n",
    "h_p->GetYaxis()->SetTitle(\" \");\n",
    "h_p->SetTitle(\"proton energy\");\n",
    "h_p->SetTitle(\"\");\n",
    "TCanvas* c= new TCanvas();\n",
    "h_p->GetYaxis()->SetRangeUser(0,60000);\n",
    "h_p->Draw();\n",
    "h_true_p->Draw(\"Same\");\n",
    "//gStyle->SetOptStat(0);\n",
    "c->Draw();\n",
    "   auto legend = new TLegend(0.5,0.7,0.88,0.9);\n",
    "   legend->SetHeader(\"\",\"C\"); // option \"C\" allows to center the header\n",
    "   legend->AddEntry(h_p,\" reconstructed events\",\"l\");\n",
    "   legend->AddEntry(h_true_ebeam,\" true events\",\"l\");\n",
    "\n",
    "   legend->Draw();\n"
   ]
  },
  {
   "cell_type": "code",
   "execution_count": null,
   "metadata": {},
   "outputs": [],
   "source": [
    "h_p->Sumw2();\n",
    "auto div_Ep = new TH1F(*h_p);\n",
    " div_Ep->Divide(h_true_p);\n",
    "TCanvas c9;\n",
    "div_Ep->GetXaxis()->SetTitle(\" proton kinetic energy [MeV]\"); \n",
    "div_Ep->GetYaxis()->SetTitle(\" Detection efficiency\"); \n",
    "\n",
    "div_Ep->SetLineColor(kRed);\n",
    "div_Ep->GetYaxis()->SetRangeUser(0,0.3);\n",
    "div_Ep->SetTitle(\"total detector acceptance vs. proton energy\");\n",
    "div_Ep->SetTitle(\"\");\n",
    "div_Ep->Draw();\n",
    "c9.SetGrid();\n",
    " c9.Draw();\n"
   ]
  },
  {
   "cell_type": "markdown",
   "metadata": {},
   "source": [
    "### efficiency as a function of the polar angle for the proton"
   ]
  },
  {
   "cell_type": "code",
   "execution_count": null,
   "metadata": {},
   "outputs": [],
   "source": [
    "\n",
    "h_thetap->SetLineColor(kGreen);\n",
    "h_thetap->GetXaxis()->SetTitle(\"theta angle[#circ]\"); \n",
    "h_thetap->GetYaxis()->SetTitle(\" \");\n",
    "h_true_thetap->SetTitle(\"proton theta angle\");\n",
    "h_true_thetap->SetTitle(\"\");\n",
    "TCanvas* c= new TCanvas();\n",
    "h_true_thetap->GetXaxis()->SetTitle(\" #theta angle[#circ]\"); \n",
    "h_true_thetap->Draw();\n",
    "h_thetap->Draw(\"Same\");\n",
    "\n",
    "\n",
    "\n",
    "c->Draw();\n",
    "   auto legend = new TLegend(0.5,0.7,0.88,0.9);\n",
    "  // legend->SetHeader(\"\",\"C\"); // option \"C\" allows to center the header\n",
    "   legend->AddEntry(h_thetap,\" reconstructed events\",\"l\");\n",
    "   legend->AddEntry(h_true_thetap,\"true events\",\"l\");\n",
    "\n",
    "   legend->Draw();\n"
   ]
  },
  {
   "cell_type": "code",
   "execution_count": null,
   "metadata": {},
   "outputs": [],
   "source": [
    "h_thetap->Sumw2();\n",
    "auto div_thetap = new TH1F(*h_thetap);\n",
    " div_thetap->Divide(h_true_thetap);\n",
    "TCanvas c5;\n",
    "div_thetap->GetXaxis()->SetTitle(\" #theta angle[#circ]\"); \n",
    "div_thetap->GetYaxis()->SetTitle(\" Detection efficiency\"); \n",
    "div_thetap->SetLineColor(kRed);\n",
    "div_thetap->GetYaxis()->SetRangeUser(0,0.25);\n",
    "div_thetap->SetTitle(\"total detector acceptance vs. theta angle proton lab\");\n",
    "div_thetap->SetTitle(\"\");\n",
    "div_thetap->Draw();\n",
    "c5.SetGrid();\n",
    " c5.Draw();\n"
   ]
  },
  {
   "cell_type": "markdown",
   "metadata": {},
   "source": [
    "### efficiency as a function of the proton polar angle in CM"
   ]
  },
  {
   "cell_type": "code",
   "execution_count": null,
   "metadata": {},
   "outputs": [],
   "source": [
    "\n",
    "h_theta_cm->SetLineColor(kGreen);\n",
    "h_theta_cm->GetXaxis()->SetTitle(\"theta angle[#circ]\"); \n",
    "h_theta_cm->GetYaxis()->SetTitle(\" \");\n",
    "h_theta_cm_true->SetTitle(\" #theta angle in cm\");\n",
    "h_theta_cm_true->SetTitle(\"\");\n",
    "TCanvas* c= new TCanvas();\n",
    "h_theta_cm_true->GetXaxis()->SetTitle(\" theta angle[#circ]\"); \n",
    "h_theta_cm_true->Draw();\n",
    "h_theta_cm->Draw(\"Same\");\n",
    "\n",
    "\n",
    "\n",
    "c->Draw();\n",
    "   auto legend = new TLegend(0.5,0.7,0.88,0.9);\n",
    "  // legend->SetHeader(\"\",\"C\"); // option \"C\" allows to center the header\n",
    "   legend->AddEntry(h_theta_cm,\" reconstructed events\",\"l\");\n",
    "   legend->AddEntry(h_true_thetap,\"true events\",\"l\");\n",
    "\n",
    "   legend->Draw();\n"
   ]
  },
  {
   "cell_type": "code",
   "execution_count": null,
   "metadata": {},
   "outputs": [],
   "source": [
    "h_theta_cm->Sumw2();\n",
    "auto div_thetap_cm = new TH1F(*h_theta_cm);\n",
    " div_thetap_cm->Divide(h_theta_cm_true);\n",
    "TCanvas c5;\n",
    "div_thetap_cm->GetXaxis()->SetTitle(\" #theta angle[#circ]\"); \n",
    "div_thetap_cm->GetYaxis()->SetTitle(\" Detection efficiency\"); \n",
    "div_thetap_cm->SetLineColor(kRed);\n",
    "div_thetap_cm->GetYaxis()->SetRangeUser(0,0.3);\n",
    "\n",
    "//div_thetap_cm->GetXaxis()->SetRangeUser(30,55);\n",
    "div_thetap_cm->SetTitle(\"total detector acceptance vs. theta angle proton\");\n",
    "div_thetap_cm->SetTitle(\"\");\n",
    "div_thetap_cm->Draw();\n",
    "c5.SetGrid();\n",
    " c5.Draw();\n"
   ]
  },
  {
   "cell_type": "markdown",
   "metadata": {},
   "source": [
    "### efficiency as a function of the neutron polar angle"
   ]
  },
  {
   "cell_type": "code",
   "execution_count": null,
   "metadata": {},
   "outputs": [],
   "source": [
    "\n",
    "h_thetan->SetLineColor(kGreen);\n",
    "h_thetan->GetXaxis()->SetTitle(\"theta angle[#circ]\"); \n",
    "h_thetan->GetYaxis()->SetTitle(\" \");\n",
    "h_thetan->SetTitle(\"neutron polar angle\");\n",
    "\n",
    "TCanvas* c= new TCanvas();\n",
    "\n",
    "h_true_thetan->GetYaxis()->SetRangeUser(0,57000);\n",
    "h_true_thetan->Draw();\n",
    "h_thetan->Draw(\"Same\");\n",
    "\n",
    "\n",
    "\n",
    "c->Draw();\n",
    "   auto legend = new TLegend(0.5,0.7,0.88,0.9);\n",
    "  // legend->SetHeader(\"\",\"C\"); // option \"C\" allows to center the header\n",
    "   legend->AddEntry(h_thetan,\" reconstructed events\",\"l\");\n",
    "   legend->AddEntry(h_true_thetan,\"true events\",\"l\");\n",
    "\n",
    "   legend->Draw();"
   ]
  },
  {
   "cell_type": "code",
   "execution_count": null,
   "metadata": {},
   "outputs": [],
   "source": [
    "h_thetan->Sumw2();\n",
    "auto div_thetan = new TH1F(*h_thetan);\n",
    " div_thetan->Divide(h_true_thetan);\n",
    "TCanvas c5;\n",
    "div_thetan->GetXaxis()->SetTitle(\" theta angle[#circ]\"); \n",
    "div_thetan->GetYaxis()->SetTitle(\" Detection efficiency\"); \n",
    "div_thetan->SetLineColor(kRed);\n",
    "//div_thetan->GetYaxis()->SetRangeUser(0,0.3);\n",
    "div_thetan->SetTitle(\"efficiency as a function of the polar angle\");\n",
    "div_thetan->Draw();\n",
    "c5.SetGrid();\n",
    " c5.Draw();"
   ]
  },
  {
   "cell_type": "markdown",
   "metadata": {},
   "source": [
    "### efficiency as a function of beam energy"
   ]
  },
  {
   "cell_type": "code",
   "execution_count": null,
   "metadata": {},
   "outputs": [],
   "source": [
    "\n",
    "\n",
    "h_ebeam->SetLineColor(kGreen);\n",
    "h_ebeam->GetXaxis()->SetTitle(\"beam energy [GeV]\"); \n",
    "h_ebeam->GetYaxis()->SetTitle(\" \");\n",
    "h_ebeam->SetTitle(\"measured events vs beam energy\");\n",
    "TCanvas* c= new TCanvas();\n",
    "\n",
    "h_ebeam->GetYaxis()->SetRangeUser(0,45000);\n",
    "h_ebeam->Draw();\n",
    "h_true_ebeam->Draw(\"Same\");\n",
    "\n",
    "c->Draw();\n",
    "   auto legend = new TLegend(0.5,0.7,0.88,0.9);\n",
    "   legend->SetHeader(\"\",\"C\"); // option \"C\" allows to center the header\n",
    "   legend->AddEntry(h_ebeam,\" reconstructed events\",\"l\");\n",
    "   legend->AddEntry(h_true_ebeam,\"true events\",\"l\");\n",
    "\n",
    "   legend->Draw();"
   ]
  },
  {
   "cell_type": "code",
   "execution_count": null,
   "metadata": {},
   "outputs": [],
   "source": [
    "h_ebeam->Sumw2();\n",
    "\n",
    "auto div_ebeam = new TH1F(*h_ebeam);\n",
    " div_ebeam->Divide(h_true_ebeam);\n",
    "TCanvas c4;\n",
    "div_ebeam->GetXaxis()->SetTitle(\" beam energy[GeV]\"); \n",
    "div_ebeam->GetYaxis()->SetTitle(\" Detection efficiency\"); \n",
    "div_ebeam->SetLineColor(kRed);\n",
    "div_ebeam->GetYaxis()->SetRangeUser(0,0.3);\n",
    "div_ebeam->SetTitle(\"efficiency as a function od beam energy\");\n",
    "c4.SetGrid();\n",
    "div_ebeam->Draw(\"E\");\n",
    "c4.Draw();"
   ]
  },
  {
   "cell_type": "markdown",
   "metadata": {},
   "source": [
    "### 2-dim Histogramm: efficiency as a function of polar angle and beam energy"
   ]
  },
  {
   "cell_type": "code",
   "execution_count": null,
   "metadata": {},
   "outputs": [],
   "source": [
    "\n",
    "\n",
    "auto  acc_thetap_Eg = new TH2F(*h_thetap_Eg);\n",
    " acc_thetap_Eg->Divide(h_true_thetap_Eg);\n",
    "TCanvas c4;\n",
    "//gStyle->SetOptStat(0);\n",
    "acc_thetap_Eg->GetXaxis()->SetTitle(\" proton polar angle #theta[#circ]\"); \n",
    "acc_thetap_Eg->GetYaxis()->SetTitle(\" beam energy [MeV]\"); \n",
    "//acc_thetap_Eg->GetYaxis()->SetRangeUser(0.57,0.600);\n",
    "\n",
    "acc_thetap_Eg->SetTitle(\"total detector acceptance for proton theta vs. beam energy\");\n",
    "acc_thetap_Eg->SetTitle(\"\");\n",
    "acc_thetap_Eg->Draw(\"CONTZ\");\n",
    "c4.SetGrid();\n",
    "c4.Draw();\n",
    "  "
   ]
  },
  {
   "cell_type": "markdown",
   "metadata": {},
   "source": [
    "### correlation of the proton polar angle in lab and cm "
   ]
  },
  {
   "cell_type": "code",
   "execution_count": null,
   "metadata": {},
   "outputs": [],
   "source": [
    "auto  acc_theta = new TH2F(*h_theta_cm_1);\n",
    " acc_theta->Divide(h_theta_cm_2);\n",
    "TCanvas c4;\n",
    "//gStyle->SetOptStat(0);\n",
    "acc_theta->GetXaxis()->SetTitle(\" cm theta angle[#circ]\"); \n",
    "acc_theta->GetYaxis()->SetTitle(\" lab theta angle [#circ]\"); \n",
    "//acc_thetap_Eg->GetYaxis()->SetRangeUser(0.57,0.600);\n",
    "\n",
    "acc_theta->SetTitle(\"total detector acceptance for cm theta vs. lab theta\");\n",
    "acc_theta->SetTitle(\"tehta lab vs. theta cm\");\n",
    "acc_theta->Draw(\"CONTZ\");\n",
    "c4.SetGrid();\n",
    "c4.Draw();\n",
    "//c4.SaveAs(\"theta_lab_cm.jpg\");  "
   ]
  },
  {
   "cell_type": "markdown",
   "metadata": {},
   "source": [
    "###  2-dim Histogramm: efficiency as a function of proton polar angle cm and beam energy"
   ]
  },
  {
   "cell_type": "code",
   "execution_count": null,
   "metadata": {},
   "outputs": [],
   "source": [
    "\n",
    "\n",
    "auto  acc_thetap_Eg2 = new TH2F(*h_thetap_Eg2);\n",
    " acc_thetap_Eg2->Divide(h_true_thetap_Eg2);\n",
    "TCanvas c4;\n",
    "//gStyle->SetOptStat(0);\n",
    "acc_thetap_Eg2->GetXaxis()->SetTitle(\" proton polar angle #theta_{cm}[#circ]\"); \n",
    "acc_thetap_Eg2->GetYaxis()->SetTitle(\" beam energy [MeV]\"); \n",
    "//acc_thetap_Eg->GetYaxis()->SetRangeUser(0.57,0.600);\n",
    "\n",
    "acc_thetap_Eg2->SetTitle(\"total detector acceptance for proton theta vs. beam energy\");\n",
    "acc_thetap_Eg2->SetTitle(\"\");\n",
    "acc_thetap_Eg2->Draw(\"CONTZ\");\n",
    "c4.SetGrid();\n",
    "c4.Draw();\n",
    " "
   ]
  }
 ],
 "metadata": {
  "kernelspec": {
   "display_name": "ROOT C++",
   "language": "c++",
   "name": "root"
  },
  "language_info": {
   "codemirror_mode": "text/x-c++src",
   "file_extension": ".C",
   "mimetype": " text/x-c++src",
   "name": "c++"
  }
 },
 "nbformat": 4,
 "nbformat_minor": 4
}
