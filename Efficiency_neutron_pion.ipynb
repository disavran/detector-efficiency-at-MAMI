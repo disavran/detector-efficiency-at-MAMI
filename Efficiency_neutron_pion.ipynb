{
 "cells": [
  {
   "cell_type": "markdown",
   "metadata": {
    "deletable": false
   },
   "source": [
    "<div id='toc'></div>"
   ]
  },
  {
   "cell_type": "markdown",
   "metadata": {},
   "source": [
    "# Detector efficiency"
   ]
  },
  {
   "cell_type": "code",
   "execution_count": 1,
   "metadata": {},
   "outputs": [],
   "source": [
    "TFile file(\"Events_npip.root\");"
   ]
  },
  {
   "cell_type": "code",
   "execution_count": 2,
   "metadata": {},
   "outputs": [],
   "source": [
    "//genral definition to use Tree\n",
    "#define PI 3.14159265\n",
    "TTree* tree =(TTree*) file.Get(\"events\");\n",
    "Int_t nTracks, detectors[100];\n",
    "Double_t theta[100],clusterEnergy[100],vetoEnergy[100],phi[100];\n",
    "Float_t elab[2],ebeam,dircos[2][3],plab[2];\n",
    "\n",
    "\n",
    "//TH1F *h1 = new TH1F(\"measured_theta\",\"measures_theta\", 36,0,180); // energy of all measured events\n",
    "\n",
    "TH1F *h_true_thetapion =new TH1F(\"true_theta pion\",\"true_theta pion\", 18,0,180);\n",
    "\n",
    "\n",
    "tree->SetBranchAddress(\"nTracks\",&nTracks);\n",
    "tree->SetBranchAddress(\"detectors\",detectors);\n",
    "tree->SetBranchAddress(\"theta\",theta);\n",
    "tree->SetBranchAddress(\"phi\",phi);\n",
    "tree->SetBranchAddress(\"clusterEnergy\",clusterEnergy);\n",
    "tree->SetBranchAddress(\"vetoEnergy\",vetoEnergy);\n",
    "tree->SetBranchAddress(\"elab\",elab);\n",
    "tree->SetBranchAddress(\"plab\",plab);\n",
    "\n",
    "tree->SetBranchAddress(\"ebeam\",&ebeam);\n",
    "tree->SetBranchAddress(\"dircos\",dircos);\n",
    "\n",
    "\n",
    "for(int i =0,N= tree->GetEntries(); i< N; ++i){\n",
    "    tree->GetEntry(i);\n",
    "    h_true_thetapion->Fill(acos(dircos[1][2])*(180/3.14159265));\n",
    "\n",
    "     \n",
    "}"
   ]
  },
  {
   "cell_type": "code",
   "execution_count": 6,
   "metadata": {},
   "outputs": [],
   "source": [
    "\n",
    "\n",
    "TH1F *h_pion =new TH1F(\"proton\",\"proton\", 100,0,1500);\n",
    "\n",
    "TH1F *h_thetap =new TH1F(\"proton theta\",\"proton theta\", 18,0,180);\n",
    "\n",
    "\n",
    "\n",
    "\n",
    "\n",
    "for(int i =0,N= tree->GetEntries(); i< N; ++i){\n",
    "    tree->GetEntry(i);\n",
    "        if(nTracks==2){\n",
    "        int pion = 1;\n",
    "        int neut = 0;\n",
    "            if(vetoEnergy[0]>vetoEnergy[1]){\n",
    "                pion = 0;\n",
    "                neut = 1;\n",
    "            }\n",
    "            else if(vetoEnergy[0]<vetoEnergy[1]){\n",
    "                pion = 1;\n",
    "                neut = 0;\n",
    "            }\n",
    "            else if(vetoEnergy[0]==0 && vetoEnergy[1]==0){\n",
    "                continue; //this to cut the events when both tracks have VetoEnergy ==0\n",
    "            }\n",
    " if (  detectors[pion]==7 or detectors[pion]==3 or detectors[pion]==5 or detectors[pion]==6 or detectors[pion]==40 ){ //       \n",
    "     if (vetoEnergy[pion]>0.7){ \n",
    "\n",
    "        if(detectors[neut]==1){\n",
    "                                     \n",
    "          if(abs(phi[neut])+abs(phi[pion])<=(180+1.5*5.99)){\n",
    "                if( abs(phi[neut])+abs(phi[pion])>=(180-1.5*5.99)){\n",
    "                                         \n",
    "                    auto diff_theta=acos(dircos[0][2])*(180/3.14159265)-theta[neut];\n",
    "                    if (diff_theta<=2*4.95){\n",
    "                    if(diff_theta>=-2*4.95){\n",
    "    \n",
    "                    h_thetap->Fill(theta[pion]);\n",
    "                                            \n",
    "                                        \n",
    "                                                 }\n",
    "                                             }\n",
    "                                        }  \n",
    "                                 \n",
    "                                    }                                 \n",
    "                                }\n",
    "                     \n",
    "                            \n",
    "                        }\n",
    "     \n",
    "            \n",
    "\n",
    "    \n",
    "    \n",
    "                }\n",
    "            }\n",
    "        }\n",
    "\n",
    "    "
   ]
  },
  {
   "cell_type": "markdown",
   "metadata": {},
   "source": [
    "## total detetcor efficiency "
   ]
  },
  {
   "cell_type": "markdown",
   "metadata": {},
   "source": [
    "### efficiency as a function of the polar angle for the proton"
   ]
  },
  {
   "cell_type": "code",
   "execution_count": 9,
   "metadata": {},
   "outputs": [
    {
     "data": {
      "image/png": "[encoded data removed]",
      "text/plain": [
       "<IPython.core.display.Image object>"
      ]
     },
     "metadata": {},
     "output_type": "display_data"
    }
   ],
   "source": [
    "\n",
    "h_thetap->SetLineColor(kGreen);\n",
    "h_thetap->GetXaxis()->SetTitle(\"theta angle[#circ]\"); \n",
    "h_thetap->GetYaxis()->SetTitle(\" \");\n",
    "h_true_thetapion->SetTitle(\"pion polar angle\");\n",
    "h_true_thetapion->SetTitle(\"\");\n",
    "TCanvas* c= new TCanvas();\n",
    "h_true_thetapion->GetXaxis()->SetTitle(\" #theta angle[#circ]\"); \n",
    "\n",
    "h_thetap->Draw(\"\");\n",
    "\n",
    "\n",
    "\n",
    "c->Draw();\n",
    "   auto legend = new TLegend(0.5,0.7,0.88,0.9);\n",
    "  // legend->SetHeader(\"\",\"C\"); // option \"C\" allows to center the header\n",
    "   legend->AddEntry(h_thetap,\" reconstructed events\",\"l\");\n",
    "   \n",
    "\n",
    "   legend->Draw();\n"
   ]
  },
  {
   "cell_type": "code",
   "execution_count": 14,
   "metadata": {},
   "outputs": [
    {
     "data": {
      "image/png": "[encoded data removed]",
      "text/plain": [
       "<IPython.core.display.Image object>"
      ]
     },
     "metadata": {},
     "output_type": "display_data"
    },
    {
     "name": "stderr",
     "output_type": "stream",
     "text": [
      "Warning in <TH1F::Sumw2>: Sum of squares of weights structure already created\n",
      "Info in <TCanvas::Print>: jpg file ratio_thetapion.jpg has been created\n"
     ]
    }
   ],
   "source": [
    "h_thetap->Sumw2();\n",
    "gStyle->SetOptStat(0);\n",
    "auto div_thetap = new TH1F(*h_thetap);\n",
    " div_thetap->Divide(h_true_thetapion);\n",
    "TCanvas c5;\n",
    "div_thetap->GetXaxis()->SetTitle(\" #theta angle[#circ]\"); \n",
    "div_thetap->GetYaxis()->SetTitle(\" Detection efficiency\"); \n",
    "div_thetap->SetLineColor(kRed);\n",
    "div_thetap->GetYaxis()->SetRangeUser(0,0.006);\n",
    "div_thetap->SetTitle(\"total detector acceptance vs. theta angle proton lab\");\n",
    "div_thetap->SetTitle(\"\");\n",
    "div_thetap->Draw();\n",
    "c5.SetGrid();\n",
    "c5.Draw();\n",
    "c5.SaveAs(\"ratio_thetapion.jpg\")"
   ]
  }
 ],
 "metadata": {
  "kernelspec": {
   "display_name": "ROOT C++",
   "language": "c++",
   "name": "root"
  },
  "language_info": {
   "codemirror_mode": "text/x-c++src",
   "file_extension": ".C",
   "mimetype": " text/x-c++src",
   "name": "c++"
  }
 },
 "nbformat": 4,
 "nbformat_minor": 4
}
